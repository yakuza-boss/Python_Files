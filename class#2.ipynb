{
 "cells": [
  {
   "cell_type": "code",
   "execution_count": 1,
   "id": "f53f3ad5-b9d3-48d7-a1c6-592793f441b1",
   "metadata": {},
   "outputs": [
    {
     "name": "stdin",
     "output_type": "stream",
     "text": [
      "guess a number between 1 to 10:  3\n"
     ]
    },
    {
     "name": "stdout",
     "output_type": "stream",
     "text": [
      "the number was 1 \n"
     ]
    }
   ],
   "source": [
    "#number game\n",
    "import random\n",
    "def guess_num():\n",
    "    number=random.randint(1,10)\n",
    "    guess=int(input(\"guess a number between 1 to 10: \"))\n",
    "\n",
    "    if guess==number:\n",
    "        print(\"you guessed it!\")\n",
    "    else:\n",
    "        print(f\"the number was {number} \")\n",
    "guess_num()"
   ]
  },
  {
   "cell_type": "code",
   "execution_count": 2,
   "id": "59ae4786-b2e8-4cbc-9190-936c196508eb",
   "metadata": {},
   "outputs": [
    {
     "name": "stdin",
     "output_type": "stream",
     "text": [
      "Press enter to roll the dice... \n"
     ]
    },
    {
     "name": "stdout",
     "output_type": "stream",
     "text": [
      "you rolled:  5\n"
     ]
    },
    {
     "name": "stdin",
     "output_type": "stream",
     "text": [
      "roll again?(y/n):  y\n",
      "Press enter to roll the dice... \n"
     ]
    },
    {
     "name": "stdout",
     "output_type": "stream",
     "text": [
      "you rolled:  3\n"
     ]
    },
    {
     "name": "stdin",
     "output_type": "stream",
     "text": [
      "roll again?(y/n):  n\n"
     ]
    }
   ],
   "source": [
    "import random\n",
    "def roll_dice():\n",
    "    return random.randint(1,6)\n",
    "while True:\n",
    "    input(\"Press enter to roll the dice...\")\n",
    "    print(\"you rolled: \", roll_dice())\n",
    "    again=input(\"roll again?(y/n): \")\n",
    "    if again.lower() !='y':\n",
    "        break"
   ]
  },
  {
   "cell_type": "markdown",
   "id": "6b251e03-d2ad-4d5d-9651-90912b3705c8",
   "metadata": {},
   "source": [
    "#dice gui"
   ]
  },
  {
   "cell_type": "code",
   "execution_count": 10,
   "id": "f5f4c43d-7e0c-48c6-ad91-587278f105e0",
   "metadata": {},
   "outputs": [],
   "source": [
    "import tkinter as tk\n",
    "import random\n",
    "def roll_dice():\n",
    "    dice_value=random.randint(1,6)\n",
    "    label_result.config(text=f\"you rolled: {dice_value}\")\n",
    "    dice_label.config(text=dice_unicode[dice_value])\n",
    "dice_unicode={\n",
    "    1:\"\\u2680\",\n",
    "    2:\"\\u2681\",\n",
    "    3:\"\\u2682\",\n",
    "    4:\"\\u2683\",\n",
    "    5:\"\\u2684\",\n",
    "    6:\"\\u2685\"\n",
    "}\n",
    "#creawte main window\n",
    "root=tk.Tk()\n",
    "root.title(\"dice roller\")\n",
    "root.geometry(\"300x200\")\n",
    "#dice face display\n",
    "dice_label=tk.Label(root, text=\"\", font=(\"Helvetica\", 100))\n",
    "dice_label.pack()\n",
    "#result text display\n",
    "label_result=tk.Label(root, text=\"click to roll the dice\", font=(\"Helvetica\", 14))\n",
    "#roll button\n",
    "roll_button=tk.Button(root,text=\"Roll Dice\", command=roll_dice, font=(\"Helvetica\", 12))\n",
    "roll_button.pack()\n",
    "#run the gui loop\n",
    "root.mainloop()"
   ]
  },
  {
   "cell_type": "code",
   "execution_count": 13,
   "id": "f0af018f-e33f-4aa6-9dbd-7e344b287fa4",
   "metadata": {},
   "outputs": [
    {
     "name": "stdin",
     "output_type": "stream",
     "text": [
      "Enter the path of the first file:  file1.txt\n",
      "Enter the path of the second file:  file2.txt\n"
     ]
    },
    {
     "name": "stdout",
     "output_type": "stream",
     "text": [
      "\n",
      "Similarity Score: 0.29\n",
      "Number of common words: 5\n",
      "Common Words: is, john, my, the, this\n"
     ]
    }
   ],
   "source": [
    "#take two files input and compare the similarity\n",
    "def read_words(file_path):\n",
    "    try:\n",
    "        with open(file_path, 'r', encoding='utf-8') as f:\n",
    "            text = f.read().lower()\n",
    "            words = text.split()\n",
    "            return set(words)\n",
    "    except FileNotFoundError:\n",
    "        print(\"File not found:\")\n",
    "        return set()\n",
    "\n",
    "def calculate_similarity(file1, file2):\n",
    "    words1 = read_words(file1)\n",
    "    words2 = read_words(file2)\n",
    "\n",
    "    if not words1 or not words2:\n",
    "        return 0\n",
    "\n",
    "    common_words = words1.intersection(words2)\n",
    "    total_words = words1.union(words2)\n",
    "\n",
    "    similarity = len(common_words) / len(total_words)\n",
    "    return similarity, common_words\n",
    "\n",
    "if __name__ == \"__main__\":\n",
    "    file1 = input(\"Enter the path of the first file: \")\n",
    "    file2 = input(\"Enter the path of the second file: \")\n",
    "\n",
    "    similarity, common_words = calculate_similarity(file1, file2)\n",
    "    print(f\"\\nSimilarity Score: {similarity:.2f}\")\n",
    "    print(f\"Number of common words: {len(common_words)}\")\n",
    "    print(f\"Common Words: {', '.join(sorted(common_words))}\")\n"
   ]
  },
  {
   "cell_type": "code",
   "execution_count": null,
   "id": "9f4a3e66-887e-41c1-b59d-c72ac571571d",
   "metadata": {},
   "outputs": [],
   "source": []
  }
 ],
 "metadata": {
  "kernelspec": {
   "display_name": "Python 3 (ipykernel)",
   "language": "python",
   "name": "python3"
  },
  "language_info": {
   "codemirror_mode": {
    "name": "ipython",
    "version": 3
   },
   "file_extension": ".py",
   "mimetype": "text/x-python",
   "name": "python",
   "nbconvert_exporter": "python",
   "pygments_lexer": "ipython3",
   "version": "3.13.5"
  }
 },
 "nbformat": 4,
 "nbformat_minor": 5
}
