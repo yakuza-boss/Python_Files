{
 "cells": [
  {
   "cell_type": "code",
   "execution_count": 1,
   "id": "8664753e-45a7-412c-b0cc-f556c5c2fe64",
   "metadata": {},
   "outputs": [
    {
     "name": "stdout",
     "output_type": "stream",
     "text": [
      "this was the yesterday dance of the guy hamburger the for \n",
      "this guy is the same as the yesterday meal was soo good boy\n",
      "\n",
      "similar words are: {'guy', 'was', 'this', 'the', 'yesterday'}\n",
      "number of similar words: 5\n"
     ]
    }
   ],
   "source": [
    "with open('file1.txt', 'r') as f1, open('file2.txt', 'r') as f2:\n",
    "\n",
    "    words1 = f1.read().lower().split()\n",
    "    words2 = f2.read().lower().split()\n",
    "\n",
    "set1 = set(words1)\n",
    "set2 = set(words2)\n",
    "\n",
    "comm_wrds = set1 & set2\n",
    "one = open('file1.txt')\n",
    "two = open('file2.txt')\n",
    "\n",
    "for word in one:\n",
    "    print(word)\n",
    "for word in two:\n",
    "    print(word)\n",
    "    \n",
    "print(\"similar words are:\", comm_wrds)\n",
    "print(\"number of similar words:\", len(comm_wrds))"
   ]
  },
  {
   "cell_type": "code",
   "execution_count": null,
   "id": "7b659cd6-224b-4a6b-b3aa-f916e0c27399",
   "metadata": {},
   "outputs": [],
   "source": []
  }
 ],
 "metadata": {
  "kernelspec": {
   "display_name": "Python 3 (ipykernel)",
   "language": "python",
   "name": "python3"
  },
  "language_info": {
   "codemirror_mode": {
    "name": "ipython",
    "version": 3
   },
   "file_extension": ".py",
   "mimetype": "text/x-python",
   "name": "python",
   "nbconvert_exporter": "python",
   "pygments_lexer": "ipython3",
   "version": "3.13.5"
  }
 },
 "nbformat": 4,
 "nbformat_minor": 5
}
