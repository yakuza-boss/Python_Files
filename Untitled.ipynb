{
 "cells": [
  {
   "cell_type": "markdown",
   "id": "3fb3bdb2-ddcb-4fd8-8773-b29ccd93549b",
   "metadata": {},
   "source": [
    "# My first python program\n",
    "## my first python prog\n",
    "### hello\n",
    "# hello"
   ]
  },
  {
   "cell_type": "code",
   "execution_count": null,
   "id": "1408dd71-214a-4407-a34a-a0589103c558",
   "metadata": {},
   "outputs": [],
   "source": [
    "# this is a comment"
   ]
  },
  {
   "cell_type": "code",
   "execution_count": 2,
   "id": "0a001f96-11a5-4cdc-bda5-3d5c2ab05d40",
   "metadata": {},
   "outputs": [
    {
     "name": "stdout",
     "output_type": "stream",
     "text": [
      "3\n"
     ]
    }
   ],
   "source": [
    "a=1\n",
    "b=2\n",
    "c=a+b\n",
    "print(c)"
   ]
  },
  {
   "cell_type": "code",
   "execution_count": 8,
   "id": "c6f439b6-d92f-4ed4-9ab2-9c9be6ae2981",
   "metadata": {},
   "outputs": [
    {
     "ename": "TypeError",
     "evalue": "can only concatenate str (not \"int\") to str",
     "output_type": "error",
     "traceback": [
      "\u001b[31m---------------------------------------------------------------------------\u001b[39m",
      "\u001b[31mTypeError\u001b[39m                                 Traceback (most recent call last)",
      "\u001b[36mCell\u001b[39m\u001b[36m \u001b[39m\u001b[32mIn[8]\u001b[39m\u001b[32m, line 2\u001b[39m\n\u001b[32m      1\u001b[39m eee=\u001b[33m'\u001b[39m\u001b[33mhello\u001b[39m\u001b[33m'\u001b[39m+\u001b[33m'\u001b[39m\u001b[33mthere\u001b[39m\u001b[33m'\u001b[39m\n\u001b[32m----> \u001b[39m\u001b[32m2\u001b[39m eee=\u001b[43meee\u001b[49m\u001b[43m+\u001b[49m\u001b[32;43m1\u001b[39;49m\n\u001b[32m      3\u001b[39m \u001b[38;5;28mtype\u001b[39m(eee)\n",
      "\u001b[31mTypeError\u001b[39m: can only concatenate str (not \"int\") to str"
     ]
    }
   ],
   "source": [
    "eee='hello'+'there'\n",
    "eee=eee+1\n",
    "type(eee)"
   ]
  },
  {
   "cell_type": "code",
   "execution_count": 9,
   "id": "57c0fa95-bbc1-4e6a-82db-f81db9ef282e",
   "metadata": {},
   "outputs": [
    {
     "data": {
      "text/plain": [
       "int"
      ]
     },
     "execution_count": 9,
     "metadata": {},
     "output_type": "execute_result"
    }
   ],
   "source": [
    "x=1\n",
    "type(x)"
   ]
  },
  {
   "cell_type": "code",
   "execution_count": 10,
   "id": "a416ce6e-610e-44b0-b34c-3a22b3539aa6",
   "metadata": {},
   "outputs": [
    {
     "name": "stdin",
     "output_type": "stream",
     "text": [
      "Who are you? kdfdg\n"
     ]
    },
    {
     "name": "stdout",
     "output_type": "stream",
     "text": [
      "Welcome kdfdg\n"
     ]
    }
   ],
   "source": [
    "nam=input('Who are you?')\n",
    "print('Welcome', nam)\n"
   ]
  },
  {
   "cell_type": "code",
   "execution_count": null,
   "id": "2be2dfc9-32c7-4f99-937c-d52d7caced69",
   "metadata": {},
   "outputs": [],
   "source": []
  }
 ],
 "metadata": {
  "kernelspec": {
   "display_name": "Python 3 (ipykernel)",
   "language": "python",
   "name": "python3"
  },
  "language_info": {
   "codemirror_mode": {
    "name": "ipython",
    "version": 3
   },
   "file_extension": ".py",
   "mimetype": "text/x-python",
   "name": "python",
   "nbconvert_exporter": "python",
   "pygments_lexer": "ipython3",
   "version": "3.13.5"
  }
 },
 "nbformat": 4,
 "nbformat_minor": 5
}
