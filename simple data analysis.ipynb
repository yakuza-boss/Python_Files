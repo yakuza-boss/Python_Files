{
 "cells": [
  {
   "cell_type": "markdown",
   "id": "3e698fe8-cd50-4357-8163-03dabd494eaa",
   "metadata": {},
   "source": [
    "# dataframe"
   ]
  },
  {
   "cell_type": "code",
   "execution_count": 1,
   "id": "f190d2f2-2231-4b8e-b28a-877bd2acdf61",
   "metadata": {},
   "outputs": [],
   "source": [
    "import pandas as pd"
   ]
  },
  {
   "cell_type": "code",
   "execution_count": 4,
   "id": "9bb1d066-c638-41f9-8c82-9bda69d1637d",
   "metadata": {},
   "outputs": [],
   "source": [
    "df=pd.read_csv('Employers_data.csv')"
   ]
  },
  {
   "cell_type": "code",
   "execution_count": 5,
   "id": "eb2d94e5-774f-4803-b9da-535a43ee5c1d",
   "metadata": {},
   "outputs": [
    {
     "data": {
      "text/html": [
       "<div>\n",
       "<style scoped>\n",
       "    .dataframe tbody tr th:only-of-type {\n",
       "        vertical-align: middle;\n",
       "    }\n",
       "\n",
       "    .dataframe tbody tr th {\n",
       "        vertical-align: top;\n",
       "    }\n",
       "\n",
       "    .dataframe thead th {\n",
       "        text-align: right;\n",
       "    }\n",
       "</style>\n",
       "<table border=\"1\" class=\"dataframe\">\n",
       "  <thead>\n",
       "    <tr style=\"text-align: right;\">\n",
       "      <th></th>\n",
       "      <th>Employee_ID</th>\n",
       "      <th>Name</th>\n",
       "      <th>Age</th>\n",
       "      <th>Gender</th>\n",
       "      <th>Department</th>\n",
       "      <th>Job_Title</th>\n",
       "      <th>Experience_Years</th>\n",
       "      <th>Education_Level</th>\n",
       "      <th>Location</th>\n",
       "      <th>Salary</th>\n",
       "    </tr>\n",
       "  </thead>\n",
       "  <tbody>\n",
       "    <tr>\n",
       "      <th>0</th>\n",
       "      <td>1</td>\n",
       "      <td>Merle Ingram</td>\n",
       "      <td>24</td>\n",
       "      <td>Female</td>\n",
       "      <td>Engineering</td>\n",
       "      <td>Engineer</td>\n",
       "      <td>1</td>\n",
       "      <td>Master</td>\n",
       "      <td>Austin</td>\n",
       "      <td>90000</td>\n",
       "    </tr>\n",
       "    <tr>\n",
       "      <th>1</th>\n",
       "      <td>2</td>\n",
       "      <td>John Mayes</td>\n",
       "      <td>56</td>\n",
       "      <td>Male</td>\n",
       "      <td>Sales</td>\n",
       "      <td>Executive</td>\n",
       "      <td>33</td>\n",
       "      <td>Master</td>\n",
       "      <td>Seattle</td>\n",
       "      <td>195000</td>\n",
       "    </tr>\n",
       "    <tr>\n",
       "      <th>2</th>\n",
       "      <td>3</td>\n",
       "      <td>Carlos Wille</td>\n",
       "      <td>21</td>\n",
       "      <td>Male</td>\n",
       "      <td>Engineering</td>\n",
       "      <td>Intern</td>\n",
       "      <td>1</td>\n",
       "      <td>Bachelor</td>\n",
       "      <td>New York</td>\n",
       "      <td>35000</td>\n",
       "    </tr>\n",
       "    <tr>\n",
       "      <th>3</th>\n",
       "      <td>4</td>\n",
       "      <td>Michael Bryant</td>\n",
       "      <td>30</td>\n",
       "      <td>Male</td>\n",
       "      <td>Finance</td>\n",
       "      <td>Analyst</td>\n",
       "      <td>9</td>\n",
       "      <td>Bachelor</td>\n",
       "      <td>New York</td>\n",
       "      <td>75000</td>\n",
       "    </tr>\n",
       "    <tr>\n",
       "      <th>4</th>\n",
       "      <td>5</td>\n",
       "      <td>Paula Douglas</td>\n",
       "      <td>25</td>\n",
       "      <td>Female</td>\n",
       "      <td>HR</td>\n",
       "      <td>Analyst</td>\n",
       "      <td>2</td>\n",
       "      <td>Master</td>\n",
       "      <td>Seattle</td>\n",
       "      <td>70000</td>\n",
       "    </tr>\n",
       "  </tbody>\n",
       "</table>\n",
       "</div>"
      ],
      "text/plain": [
       "   Employee_ID            Name  Age  Gender   Department  Job_Title  \\\n",
       "0            1    Merle Ingram   24  Female  Engineering   Engineer   \n",
       "1            2      John Mayes   56    Male        Sales  Executive   \n",
       "2            3    Carlos Wille   21    Male  Engineering     Intern   \n",
       "3            4  Michael Bryant   30    Male      Finance    Analyst   \n",
       "4            5   Paula Douglas   25  Female           HR    Analyst   \n",
       "\n",
       "   Experience_Years Education_Level  Location  Salary  \n",
       "0                 1          Master    Austin   90000  \n",
       "1                33          Master   Seattle  195000  \n",
       "2                 1        Bachelor  New York   35000  \n",
       "3                 9        Bachelor  New York   75000  \n",
       "4                 2          Master   Seattle   70000  "
      ]
     },
     "execution_count": 5,
     "metadata": {},
     "output_type": "execute_result"
    }
   ],
   "source": [
    "df.head()"
   ]
  },
  {
   "cell_type": "code",
   "execution_count": 6,
   "id": "dc7a5c43-319f-4129-9e93-06023e1b48de",
   "metadata": {},
   "outputs": [
    {
     "data": {
      "text/html": [
       "<div>\n",
       "<style scoped>\n",
       "    .dataframe tbody tr th:only-of-type {\n",
       "        vertical-align: middle;\n",
       "    }\n",
       "\n",
       "    .dataframe tbody tr th {\n",
       "        vertical-align: top;\n",
       "    }\n",
       "\n",
       "    .dataframe thead th {\n",
       "        text-align: right;\n",
       "    }\n",
       "</style>\n",
       "<table border=\"1\" class=\"dataframe\">\n",
       "  <thead>\n",
       "    <tr style=\"text-align: right;\">\n",
       "      <th></th>\n",
       "      <th>Employee_ID</th>\n",
       "      <th>Age</th>\n",
       "      <th>Experience_Years</th>\n",
       "      <th>Salary</th>\n",
       "    </tr>\n",
       "  </thead>\n",
       "  <tbody>\n",
       "    <tr>\n",
       "      <th>count</th>\n",
       "      <td>10000.00000</td>\n",
       "      <td>10000.000000</td>\n",
       "      <td>10000.000000</td>\n",
       "      <td>10000.000000</td>\n",
       "    </tr>\n",
       "    <tr>\n",
       "      <th>mean</th>\n",
       "      <td>5000.50000</td>\n",
       "      <td>35.455900</td>\n",
       "      <td>12.370900</td>\n",
       "      <td>115381.500000</td>\n",
       "    </tr>\n",
       "    <tr>\n",
       "      <th>std</th>\n",
       "      <td>2886.89568</td>\n",
       "      <td>10.000213</td>\n",
       "      <td>9.148951</td>\n",
       "      <td>46066.139047</td>\n",
       "    </tr>\n",
       "    <tr>\n",
       "      <th>min</th>\n",
       "      <td>1.00000</td>\n",
       "      <td>21.000000</td>\n",
       "      <td>0.000000</td>\n",
       "      <td>25000.000000</td>\n",
       "    </tr>\n",
       "    <tr>\n",
       "      <th>25%</th>\n",
       "      <td>2500.75000</td>\n",
       "      <td>27.000000</td>\n",
       "      <td>5.000000</td>\n",
       "      <td>70000.000000</td>\n",
       "    </tr>\n",
       "    <tr>\n",
       "      <th>50%</th>\n",
       "      <td>5000.50000</td>\n",
       "      <td>34.000000</td>\n",
       "      <td>10.000000</td>\n",
       "      <td>120000.000000</td>\n",
       "    </tr>\n",
       "    <tr>\n",
       "      <th>75%</th>\n",
       "      <td>7500.25000</td>\n",
       "      <td>43.000000</td>\n",
       "      <td>19.000000</td>\n",
       "      <td>150000.000000</td>\n",
       "    </tr>\n",
       "    <tr>\n",
       "      <th>max</th>\n",
       "      <td>10000.00000</td>\n",
       "      <td>60.000000</td>\n",
       "      <td>37.000000</td>\n",
       "      <td>215000.000000</td>\n",
       "    </tr>\n",
       "  </tbody>\n",
       "</table>\n",
       "</div>"
      ],
      "text/plain": [
       "       Employee_ID           Age  Experience_Years         Salary\n",
       "count  10000.00000  10000.000000      10000.000000   10000.000000\n",
       "mean    5000.50000     35.455900         12.370900  115381.500000\n",
       "std     2886.89568     10.000213          9.148951   46066.139047\n",
       "min        1.00000     21.000000          0.000000   25000.000000\n",
       "25%     2500.75000     27.000000          5.000000   70000.000000\n",
       "50%     5000.50000     34.000000         10.000000  120000.000000\n",
       "75%     7500.25000     43.000000         19.000000  150000.000000\n",
       "max    10000.00000     60.000000         37.000000  215000.000000"
      ]
     },
     "execution_count": 6,
     "metadata": {},
     "output_type": "execute_result"
    }
   ],
   "source": [
    "df.describe()"
   ]
  },
  {
   "cell_type": "code",
   "execution_count": 9,
   "id": "26c45876-b7ac-4925-b55c-bdadcdaf32e4",
   "metadata": {},
   "outputs": [
    {
     "name": "stdout",
     "output_type": "stream",
     "text": [
      "5\n",
      "4\n",
      "3\n",
      "2\n",
      "1\n",
      "0\n"
     ]
    }
   ],
   "source": [
    "n=5\n",
    "while n>0:\n",
    "    print(n)\n",
    "    n=n-1\n",
    "print(n)"
   ]
  },
  {
   "cell_type": "code",
   "execution_count": 10,
   "id": "b5e0600b-2c48-4d95-92aa-6273ccd14812",
   "metadata": {},
   "outputs": [
    {
     "name": "stdin",
     "output_type": "stream",
     "text": [
      "  gh\n"
     ]
    },
    {
     "name": "stdout",
     "output_type": "stream",
     "text": [
      "gh\n"
     ]
    },
    {
     "name": "stdin",
     "output_type": "stream",
     "text": [
      "  done\n"
     ]
    },
    {
     "name": "stdout",
     "output_type": "stream",
     "text": [
      "done!\n"
     ]
    }
   ],
   "source": [
    "while True:\n",
    "    line=input(' ')\n",
    "    if line=='done':\n",
    "        break\n",
    "    print(line)\n",
    "print('done!')"
   ]
  },
  {
   "cell_type": "code",
   "execution_count": 11,
   "id": "4e718086-71bd-45b9-a577-97343cc15697",
   "metadata": {},
   "outputs": [
    {
     "name": "stdin",
     "output_type": "stream",
     "text": [
      "  a\n",
      "  done\n"
     ]
    },
    {
     "name": "stdout",
     "output_type": "stream",
     "text": [
      "Done!\n"
     ]
    }
   ],
   "source": [
    "while True:\n",
    "    line=input(' ')\n",
    "    if line[0]=='a':\n",
    "        continue\n",
    "    if line == 'done':\n",
    "        break\n",
    "    print(line)\n",
    "print('Done!')"
   ]
  },
  {
   "cell_type": "code",
   "execution_count": 13,
   "id": "87ad92a1-609d-4699-83a7-e7c8dd0523f3",
   "metadata": {},
   "outputs": [
    {
     "name": "stdout",
     "output_type": "stream",
     "text": [
      "I love you: John\n",
      "I love you: Tom\n",
      "I love you: Tim\n",
      "Done\n"
     ]
    }
   ],
   "source": [
    "friends=['John', 'Tom', 'Tim']\n",
    "for i in friends:\n",
    "    print('I love you:', i)\n",
    "print('Done')"
   ]
  },
  {
   "cell_type": "code",
   "execution_count": 17,
   "id": "ab61d73e-2ed7-4cd0-839a-1fcb52208f34",
   "metadata": {},
   "outputs": [
    {
     "name": "stdout",
     "output_type": "stream",
     "text": [
      "largest:  45\n"
     ]
    }
   ],
   "source": [
    "largest= -1\n",
    "for i in [2, 43, 45, 12 ,3, 9]:\n",
    "    if i>largest:\n",
    "        largest=i\n",
    "print('largest: ', largest)"
   ]
  },
  {
   "cell_type": "code",
   "execution_count": 19,
   "id": "d79e8853-883f-4a41-930d-63d912ca8889",
   "metadata": {},
   "outputs": [
    {
     "name": "stdout",
     "output_type": "stream",
     "text": [
      "15\n",
      "3.0\n"
     ]
    }
   ],
   "source": [
    "sum=0\n",
    "for i in [1,2,3,4,5]:\n",
    "    sum=sum+i\n",
    "print(sum)\n",
    "avg=sum/5\n",
    "print(avg)"
   ]
  },
  {
   "cell_type": "code",
   "execution_count": 3,
   "id": "b94f59da-c093-406d-90e1-2bec608c3395",
   "metadata": {},
   "outputs": [
    {
     "name": "stdin",
     "output_type": "stream",
     "text": [
      "Enter: 100\n"
     ]
    },
    {
     "name": "stdout",
     "output_type": "stream",
     "text": [
      "80\n"
     ]
    }
   ],
   "source": [
    "apple=input('Enter:')\n",
    "x = int(apple)  - 20\n",
    "print(x)"
   ]
  },
  {
   "cell_type": "code",
   "execution_count": 7,
   "id": "bd79b6a7-9036-401e-a5b8-bf70ae8ee3ea",
   "metadata": {},
   "outputs": [
    {
     "name": "stdout",
     "output_type": "stream",
     "text": [
      "o\n"
     ]
    }
   ],
   "source": [
    "abc='mango'\n",
    "print(abc[4])"
   ]
  },
  {
   "cell_type": "code",
   "execution_count": 1,
   "id": "d79fb1de-81d5-4e24-aafc-4461b8d4c8c3",
   "metadata": {},
   "outputs": [
    {
     "name": "stdout",
     "output_type": "stream",
     "text": [
      "6\n"
     ]
    }
   ],
   "source": [
    "name='Lorish'\n",
    "print(len(name))"
   ]
  },
  {
   "cell_type": "code",
   "execution_count": 2,
   "id": "5a7b085f-dba4-4526-8fa7-0f41433f5708",
   "metadata": {},
   "outputs": [
    {
     "name": "stdout",
     "output_type": "stream",
     "text": [
      "0 a\n",
      "1 p\n",
      "2 p\n",
      "3 l\n",
      "4 e\n"
     ]
    }
   ],
   "source": [
    "fruit='apple'\n",
    "index=0\n",
    "while index<len(fruit):\n",
    "    letter=fruit[index]\n",
    "    print(index, letter)\n",
    "    index=index+1"
   ]
  },
  {
   "cell_type": "code",
   "execution_count": 4,
   "id": "7d41d04e-750b-49fe-80ec-ee7ae63d3795",
   "metadata": {},
   "outputs": [
    {
     "name": "stdout",
     "output_type": "stream",
     "text": [
      "a\n",
      "p\n",
      "p\n",
      "l\n",
      "e\n"
     ]
    }
   ],
   "source": [
    "fruit='apple'\n",
    "for index in fruit:\n",
    "    print(index)\n"
   ]
  },
  {
   "cell_type": "code",
   "execution_count": 5,
   "id": "ca1db994-1117-4978-8346-4bba51385364",
   "metadata": {},
   "outputs": [
    {
     "name": "stdout",
     "output_type": "stream",
     "text": [
      "3\n"
     ]
    }
   ],
   "source": [
    "fruit='banana'\n",
    "count=0\n",
    "for letter in fruit:\n",
    "    if letter =='a':\n",
    "        count = count+1\n",
    "print(count)"
   ]
  },
  {
   "cell_type": "code",
   "execution_count": 8,
   "id": "24a1cf7e-abe3-465c-8044-96890eb51c6c",
   "metadata": {},
   "outputs": [
    {
     "name": "stdout",
     "output_type": "stream",
     "text": [
      "python\n"
     ]
    }
   ],
   "source": [
    "s='monty python'\n",
    "print(s[6:])"
   ]
  },
  {
   "cell_type": "code",
   "execution_count": 10,
   "id": "a1477f8d-2f9f-4afd-83e2-166e47a2dc9b",
   "metadata": {},
   "outputs": [
    {
     "name": "stdout",
     "output_type": "stream",
     "text": [
      "Found\n"
     ]
    }
   ],
   "source": [
    "name='Lorish'\n",
    "'r' in name\n",
    "if 'h' in name:\n",
    "    print('Found')"
   ]
  },
  {
   "cell_type": "code",
   "execution_count": 12,
   "id": "19ae5040-ae02-41b7-b706-a6fbfb6dcb57",
   "metadata": {},
   "outputs": [
    {
     "data": {
      "text/plain": [
       "['__add__',\n",
       " '__class__',\n",
       " '__contains__',\n",
       " '__delattr__',\n",
       " '__dir__',\n",
       " '__doc__',\n",
       " '__eq__',\n",
       " '__format__',\n",
       " '__ge__',\n",
       " '__getattribute__',\n",
       " '__getitem__',\n",
       " '__getnewargs__',\n",
       " '__getstate__',\n",
       " '__gt__',\n",
       " '__hash__',\n",
       " '__init__',\n",
       " '__init_subclass__',\n",
       " '__iter__',\n",
       " '__le__',\n",
       " '__len__',\n",
       " '__lt__',\n",
       " '__mod__',\n",
       " '__mul__',\n",
       " '__ne__',\n",
       " '__new__',\n",
       " '__reduce__',\n",
       " '__reduce_ex__',\n",
       " '__repr__',\n",
       " '__rmod__',\n",
       " '__rmul__',\n",
       " '__setattr__',\n",
       " '__sizeof__',\n",
       " '__str__',\n",
       " '__subclasshook__',\n",
       " 'capitalize',\n",
       " 'casefold',\n",
       " 'center',\n",
       " 'count',\n",
       " 'encode',\n",
       " 'endswith',\n",
       " 'expandtabs',\n",
       " 'find',\n",
       " 'format',\n",
       " 'format_map',\n",
       " 'index',\n",
       " 'isalnum',\n",
       " 'isalpha',\n",
       " 'isascii',\n",
       " 'isdecimal',\n",
       " 'isdigit',\n",
       " 'isidentifier',\n",
       " 'islower',\n",
       " 'isnumeric',\n",
       " 'isprintable',\n",
       " 'isspace',\n",
       " 'istitle',\n",
       " 'isupper',\n",
       " 'join',\n",
       " 'ljust',\n",
       " 'lower',\n",
       " 'lstrip',\n",
       " 'maketrans',\n",
       " 'partition',\n",
       " 'removeprefix',\n",
       " 'removesuffix',\n",
       " 'replace',\n",
       " 'rfind',\n",
       " 'rindex',\n",
       " 'rjust',\n",
       " 'rpartition',\n",
       " 'rsplit',\n",
       " 'rstrip',\n",
       " 'split',\n",
       " 'splitlines',\n",
       " 'startswith',\n",
       " 'strip',\n",
       " 'swapcase',\n",
       " 'title',\n",
       " 'translate',\n",
       " 'upper',\n",
       " 'zfill']"
      ]
     },
     "execution_count": 12,
     "metadata": {},
     "output_type": "execute_result"
    }
   ],
   "source": [
    "stuff='hello world'\n",
    "type(stuff)\n",
    "dir(stuff)"
   ]
  },
  {
   "cell_type": "markdown",
   "id": "4d8055e3-022a-4628-9765-59f8beea9dbe",
   "metadata": {},
   "source": [
    "# array python"
   ]
  },
  {
   "cell_type": "code",
   "execution_count": 6,
   "id": "5386ca92-639b-4f34-aac1-42f2923383d9",
   "metadata": {},
   "outputs": [
    {
     "name": "stdout",
     "output_type": "stream",
     "text": [
      "[[[1 2 3]\n",
      "  [4 5 6]]\n",
      "\n",
      " [[1 2 3]\n",
      "  [4 5 6]]]\n"
     ]
    }
   ],
   "source": [
    "import numpy as np\n",
    "arr=np.array([[[1,2,3],[4,5,6]], [[1,2,3],[4,5,6]]])\n",
    "print(arr)"
   ]
  },
  {
   "cell_type": "code",
   "execution_count": 8,
   "id": "c70ea20e-c808-4397-99b6-325840522c64",
   "metadata": {},
   "outputs": [
    {
     "name": "stdout",
     "output_type": "stream",
     "text": [
      "0\n",
      "1\n",
      "2\n",
      "3\n"
     ]
    }
   ],
   "source": [
    "a=np.array(42)\n",
    "b=np.array([1,2,3,4,5])\n",
    "c=np.array([[1,2,3],[4,5,6]])\n",
    "d=np.array([[[1,2,3],[4,5,6]],[[1,2,3],[4,5,6]]])\n",
    "print(a.ndim)\n",
    "print(b.ndim)\n",
    "print(c.ndim)\n",
    "print(d.ndim)"
   ]
  },
  {
   "cell_type": "code",
   "execution_count": 9,
   "id": "3a716854-62be-4e85-b5af-09f435a6402e",
   "metadata": {},
   "outputs": [
    {
     "name": "stdout",
     "output_type": "stream",
     "text": [
      "[[[[[1 2 3]]]]]\n",
      "number of dimensions:  5\n"
     ]
    }
   ],
   "source": [
    "arr=np.array([1,2,3], ndmin=5)\n",
    "print(arr)\n",
    "print('number of dimensions: ',arr.ndim)"
   ]
  },
  {
   "cell_type": "code",
   "execution_count": 12,
   "id": "5b15c72a-282b-4359-a447-e7079f2c4d8b",
   "metadata": {},
   "outputs": [
    {
     "name": "stdout",
     "output_type": "stream",
     "text": [
      "2nd element on 1st row:  2\n"
     ]
    }
   ],
   "source": [
    "arr=np.array([[1,2,3,4,5],[6,7,8,9,10]])\n",
    "print('2nd element on 1st row: ',arr[0,1])"
   ]
  },
  {
   "cell_type": "code",
   "execution_count": 13,
   "id": "70403b99-f098-4c80-8195-ac2945d81e83",
   "metadata": {},
   "outputs": [
    {
     "name": "stdout",
     "output_type": "stream",
     "text": [
      "1\n",
      "2\n",
      "3\n",
      "4\n",
      "5\n",
      "6\n",
      "7\n",
      "8\n"
     ]
    }
   ],
   "source": [
    "arr=np.array([[[1,2],[3,4]],[[5,6],[7,8]]])\n",
    "for x in np.nditer(arr):\n",
    "    print(x)"
   ]
  },
  {
   "cell_type": "code",
   "execution_count": 14,
   "id": "1f94ee4e-b602-4e7d-9898-0af0791ef349",
   "metadata": {},
   "outputs": [
    {
     "name": "stdout",
     "output_type": "stream",
     "text": [
      "[1 2 3 4 5 6]\n"
     ]
    }
   ],
   "source": [
    "arr1=np.array([1,2,3])\n",
    "arr2=np.array([4,5,6])\n",
    "arr=np.concatenate((arr1,arr2))\n",
    "print(arr)"
   ]
  },
  {
   "cell_type": "code",
   "execution_count": 17,
   "id": "0653853e-cc80-450e-a968-3b6de1d9615f",
   "metadata": {},
   "outputs": [
    {
     "name": "stdout",
     "output_type": "stream",
     "text": [
      "(array([], dtype=int64),)\n"
     ]
    }
   ],
   "source": [
    "arr=np.array([1,2,3,4,4,5])\n",
    "x=np.where(arr==9)\n",
    "print(x)"
   ]
  },
  {
   "cell_type": "code",
   "execution_count": 19,
   "id": "5b615fc1-b31d-4f6d-a984-36d9d7b7a909",
   "metadata": {},
   "outputs": [
    {
     "name": "stdout",
     "output_type": "stream",
     "text": [
      "[1 2 3 4 6]\n"
     ]
    }
   ],
   "source": [
    "arr=np.array([1,2,3,6,4])\n",
    "print(np.sort(arr))"
   ]
  },
  {
   "cell_type": "code",
   "execution_count": 21,
   "id": "2bd9ddcf-4d5a-49ee-a76e-88c033a750f8",
   "metadata": {},
   "outputs": [
    {
     "name": "stdout",
     "output_type": "stream",
     "text": [
      "[21 23]\n"
     ]
    }
   ],
   "source": [
    "arr=np.array([21,22,23,24])\n",
    "x=[True, False, True, False]\n",
    "newarr=arr[x]\n",
    "print(newarr)"
   ]
  },
  {
   "cell_type": "markdown",
   "id": "1cb9388b-a241-4649-b009-2322df9c1cbf",
   "metadata": {},
   "source": [
    "# counting and spliting"
   ]
  },
  {
   "cell_type": "code",
   "execution_count": 22,
   "id": "48816f7c-9eaa-4878-ba42-3fae5970dd58",
   "metadata": {},
   "outputs": [
    {
     "name": "stdout",
     "output_type": "stream",
     "text": [
      "enter line of words:\n"
     ]
    },
    {
     "name": "stdin",
     "output_type": "stream",
     "text": [
      " hello this is a test test\n"
     ]
    },
    {
     "name": "stdout",
     "output_type": "stream",
     "text": [
      "['hello', 'this', 'is', 'a', 'test', 'test']\n",
      "counting\n",
      "{'hello': 1, 'this': 1, 'is': 1, 'a': 1, 'test': 2}\n"
     ]
    }
   ],
   "source": [
    "#counting and slipting\n",
    "count=dict()\n",
    "print(\"enter line of words:\")\n",
    "line=input('')\n",
    "words=line.replace(\",\",\" \").split()\n",
    "print(words)\n",
    "\n",
    "print(\"counting\")\n",
    "for word in words:\n",
    "    count[word]=count.get(word,0)+1\n",
    "print(count)"
   ]
  },
  {
   "cell_type": "code",
   "execution_count": 26,
   "id": "17d76bf6-8452-4e30-9731-3531ba540995",
   "metadata": {},
   "outputs": [
    {
     "name": "stdout",
     "output_type": "stream",
     "text": [
      "enter a line of words: \n"
     ]
    },
    {
     "name": "stdin",
     "output_type": "stream",
     "text": [
      " hello ! my name is chad\n"
     ]
    },
    {
     "name": "stdout",
     "output_type": "stream",
     "text": [
      "['hello', '!', 'my', 'name', 'is', 'chad']\n",
      "counting\n",
      "{'hello': 1, '!': 1, 'my': 1, 'name': 1, 'is': 1, 'chad': 1}\n",
      "concatenation:  \n",
      "add:  0\n",
      "special char found\n"
     ]
    }
   ],
   "source": [
    "count=dict()\n",
    "print(\"enter a line of words: \")\n",
    "line=input('')\n",
    "words=line.split()\n",
    "print(words)\n",
    "\n",
    "print(\"counting\")\n",
    "for word in words:\n",
    "    count[word]=count.get(word,0)+1\n",
    "print(count)\n",
    "\n",
    "concat=''\n",
    "add=0\n",
    "for word in words:\n",
    "    try:\n",
    "        re=int(word)\n",
    "        add=add+int(word)\n",
    "        concat += word\n",
    "    except:\n",
    "        pass\n",
    "print('concatenation: ',concat)\n",
    "print('add: ',add)\n",
    "\n",
    "special_char=['!','#','$','%','&','*']\n",
    "special_stat=False\n",
    "\n",
    "for word in words:\n",
    "    if word in special_char:\n",
    "        special_stat=True\n",
    "        break\n",
    "if special_stat:\n",
    "    print('special char found')\n",
    "else:\n",
    "    print('special char not found')\n",
    "    "
   ]
  },
  {
   "cell_type": "markdown",
   "id": "ebb4ddc8-1f96-401c-965e-bc6a0cd1c30e",
   "metadata": {},
   "source": [
    "# function"
   ]
  },
  {
   "cell_type": "code",
   "execution_count": 2,
   "id": "b403f5ac-8084-4efd-bcee-ae2396ed3fa1",
   "metadata": {},
   "outputs": [
    {
     "name": "stdout",
     "output_type": "stream",
     "text": [
      "Hello world\n"
     ]
    }
   ],
   "source": [
    "def hello(): #no parameters\n",
    "    print(\"Hello world\")\n",
    "hello()"
   ]
  },
  {
   "cell_type": "code",
   "execution_count": 3,
   "id": "cc59b20b-310c-4394-8c2b-421ee2c35658",
   "metadata": {},
   "outputs": [
    {
     "name": "stdout",
     "output_type": "stream",
     "text": [
      "9\n"
     ]
    }
   ],
   "source": [
    "def add(a,b):\n",
    "    return a+b\n",
    "result=add(5,4)\n",
    "print(result)"
   ]
  },
  {
   "cell_type": "code",
   "execution_count": 6,
   "id": "ec3b959a-ddb4-4010-800c-0b117796949e",
   "metadata": {},
   "outputs": [
    {
     "name": "stdout",
     "output_type": "stream",
     "text": [
      "Hello, John!\n",
      "Hello, Tom!\n"
     ]
    }
   ],
   "source": [
    "def greet(name=\"John\"): #function with default parameter\n",
    "    print(\"Hello, \"+ name + \"!\")\n",
    "greet()\n",
    "greet(\"Tom\")"
   ]
  },
  {
   "cell_type": "code",
   "execution_count": 8,
   "id": "deb7f1de-814c-4f65-9da4-0ffc51957b0b",
   "metadata": {},
   "outputs": [
    {
     "name": "stdout",
     "output_type": "stream",
     "text": [
      "True\n"
     ]
    }
   ],
   "source": [
    "#function to check even or odd\n",
    "def is_even(num):\n",
    "    if num%2== 0:\n",
    "        return True\n",
    "    else:\n",
    "        return False\n",
    "print(is_even(8))"
   ]
  },
  {
   "cell_type": "code",
   "execution_count": 1,
   "id": "a44e39e2-3921-4274-91c2-5324a9e5fde3",
   "metadata": {},
   "outputs": [
    {
     "name": "stdout",
     "output_type": "stream",
     "text": [
      "6\n"
     ]
    }
   ],
   "source": [
    "#max fnc\n",
    "def find_max(a,b,c,d):\n",
    "    return max(a,b,c,d)\n",
    "print(find_max(2,3,5,6))"
   ]
  },
  {
   "cell_type": "code",
   "execution_count": 5,
   "id": "6bfba91a-9b84-47e5-b750-c5edd48398e2",
   "metadata": {},
   "outputs": [
    {
     "name": "stdin",
     "output_type": "stream",
     "text": [
      "guess a number between 1 to 10:  2\n"
     ]
    },
    {
     "name": "stdout",
     "output_type": "stream",
     "text": [
      "the number was 10 \n"
     ]
    }
   ],
   "source": [
    "#number game\n",
    "import random\n",
    "def guess_num():\n",
    "    number=random.randint(1,10)\n",
    "    guess=int(input(\"guess a number between 1 to 10: \"))\n",
    "\n",
    "    if guess==number:\n",
    "        print(\"you guessed it!\")\n",
    "    else:\n",
    "        print(f\"the number was {number} \")\n",
    "guess_num()"
   ]
  },
  {
   "cell_type": "code",
   "execution_count": 6,
   "id": "0f2fd479-dd54-435d-805c-81336d997a39",
   "metadata": {},
   "outputs": [
    {
     "name": "stdin",
     "output_type": "stream",
     "text": [
      "Press enter to roll the dice... \n"
     ]
    },
    {
     "name": "stdout",
     "output_type": "stream",
     "text": [
      "you rolled:  4\n"
     ]
    },
    {
     "name": "stdin",
     "output_type": "stream",
     "text": [
      "roll again?(y/n):  y\n",
      "Press enter to roll the dice... \n"
     ]
    },
    {
     "name": "stdout",
     "output_type": "stream",
     "text": [
      "you rolled:  2\n"
     ]
    },
    {
     "name": "stdin",
     "output_type": "stream",
     "text": [
      "roll again?(y/n):  n\n"
     ]
    }
   ],
   "source": [
    "import random\n",
    "def roll_dice():\n",
    "    return random.randint(1,6)\n",
    "while True:\n",
    "    input(\"Press enter to roll the dice...\")\n",
    "    print(\"you rolled: \", roll_dice())\n",
    "    again=input(\"roll again?(y/n): \")\n",
    "    if again.lower() !='y':\n",
    "        break"
   ]
  },
  {
   "cell_type": "markdown",
   "id": "0208cd04-9519-4289-a4b5-a49bfa8ea18e",
   "metadata": {},
   "source": [
    "# Dice Roll"
   ]
  },
  {
   "cell_type": "code",
   "execution_count": 9,
   "id": "6a292985-0622-4092-a3b6-4b4cf192d3ec",
   "metadata": {},
   "outputs": [],
   "source": [
    "import tkinter as tk\n",
    "import random\n",
    "\n",
    "def roll_dice():\n",
    "    dice_value = random.randint(1,6)\n",
    "    label_result.config(text = f\"You rolled: {dice_value}\")\n",
    "    dice_label.config(text=dice_unicode[dice_value])           \n",
    "\n",
    "#unicode characters for dice faces 1-6\n",
    "dice_unicode = {\n",
    "    1: \"\\u2680\",\n",
    "    2: \"\\u2681\",\n",
    "    3: \"\\u2682\",\n",
    "    4: \"\\u2683\",\n",
    "    5: \"\\u2684\",\n",
    "    6: \"\\u2685\"\n",
    "}\n",
    "\n",
    "#create main window\n",
    "root = tk.Tk()\n",
    "root.title(\"Dice Rolla\")\n",
    "root.geometry(\"300x300\")\n",
    "\n",
    "#dice face display\n",
    "dice_label = tk.Label(root, text = \"DICE ROLLER\", font = (\"Helvetica\", 20))\n",
    "dice_label.pack()\n",
    "\n",
    "#result text display\n",
    "label_result = tk.Label(root, text = \"Click to roll the dice!\", font = (\"Helvetica\", 14))\n",
    "label_result.pack(pady=10)\n",
    "\n",
    "#roll button\n",
    "roll_button = tk.Button(root, text = \"Roll the dice!\", command = roll_dice, font = (\"Helvetica\", 12))\n",
    "roll_button.pack()\n",
    "\n",
    "#run the gui loop\n",
    "root.mainloop()"
   ]
  },
  {
   "cell_type": "code",
   "execution_count": null,
   "id": "d230b1a7-3317-4a42-8b01-480588de0654",
   "metadata": {},
   "outputs": [],
   "source": []
  }
 ],
 "metadata": {
  "kernelspec": {
   "display_name": "Python 3 (ipykernel)",
   "language": "python",
   "name": "python3"
  },
  "language_info": {
   "codemirror_mode": {
    "name": "ipython",
    "version": 3
   },
   "file_extension": ".py",
   "mimetype": "text/x-python",
   "name": "python",
   "nbconvert_exporter": "python",
   "pygments_lexer": "ipython3",
   "version": "3.13.5"
  }
 },
 "nbformat": 4,
 "nbformat_minor": 5
}
